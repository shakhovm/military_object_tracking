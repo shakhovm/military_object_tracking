{
 "cells": [
  {
   "cell_type": "code",
   "execution_count": 1,
   "id": "5fbf37f2-3fb5-4166-99a1-10e79b5d4f6e",
   "metadata": {
    "tags": []
   },
   "outputs": [],
   "source": [
    "def accuracy(iou_score, thresh):\n",
    "    return (iou_score > thresh).mean()"
   ]
  },
  {
   "cell_type": "code",
   "execution_count": 4,
   "id": "7b9e7902-549e-4f22-9fe7-e3afdad750a9",
   "metadata": {},
   "outputs": [],
   "source": [
    "import numpy as np\n",
    "from pathlib import Path\n",
    "import os\n",
    "\n",
    "def iou(boxA: np.ndarray, boxB: np.ndarray):\n",
    "    # determine the (x, y)-coordinates of the intersection rectangle\n",
    "    xA = np.maximum(boxA[:, 0], boxB[:, 0])\n",
    "    yA = np.maximum(boxA[:, 1], boxB[:, 1])\n",
    "    xB = np.minimum(boxA[:, 2], boxB[:, 2])\n",
    "    yB = np.minimum(boxA[:, 3], boxB[:, 3])\n",
    "    # compute the area of intersection rectangle\n",
    "    interArea = np.maximum(0, xB - xA + 1) * np.maximum(0, yB - yA + 1)\n",
    "    # compute the area of both the prediction and ground-truth\n",
    "    # rectangles\n",
    "    boxAArea = (boxA[:, 2] - boxA[:, 0] + 1) * (boxA[:, 3] - boxA[:,1] + 1)\n",
    "    boxBArea = (boxB[:, 2] - boxB[:, 0] + 1) * (boxB[:, 3] - boxB[:,1] + 1)\n",
    "    # compute the intersection over union by taking the intersection\n",
    "    # area and dividing it by the sum of prediction + ground-truth\n",
    "    # areas - the interesection area\n",
    "    iou = interArea / (boxAArea + boxBArea - interArea)\n",
    "    # return the intersection over union value\n",
    "    return iou\n",
    "# bb_intersection_over_union(results, bboxes).mean()\n",
    "scores_df = pd.DataFrame()"
   ]
  },
  {
   "cell_type": "code",
   "execution_count": 5,
   "id": "37bcc8b6-707e-4396-9003-c253d1cf3883",
   "metadata": {
    "tags": []
   },
   "outputs": [],
   "source": [
    "import pandas as pd\n",
    "from pathlib import Path\n",
    "\n",
    "tracker_name = \"trained-atom\"\n",
    "direct = Path(\"artifacts\")\n",
    "iou_scores = []\n",
    "accuracy_list = []\n",
    "thresholds = [0.5, 0.75, 0.9]\n",
    "dct = {\n",
    "    tracker_name: {}\n",
    "}\n",
    "\n",
    "\n",
    "for filename in direct.glob(f'{tracker_name}-*.csv'):\n",
    "    df = pd.read_csv(filename)\n",
    "    pred = df[[\"pred_xl\", \"pred_yt\", \"pred_xr\", \"pred_yb\"]].values\n",
    "    target = df[[\"target_xl\", \"target_yt\", \"target_xr\", \"target_yb\"]].values\n",
    "    iou_score = iou(pred, target)\n",
    "    iou_scores.append(iou_score.mean())\n",
    "    accuracy_list.append([accuracy(iou_score, thresh) for thresh in thresholds])\n",
    "    # print(filename, iou_score.mean(), accuracy_list[-1])\n",
    "# filename = \"artifacts/atom-001.csv\"\n",
    "# df = pd.read_csv(filename)\n",
    "# pred = df[[\"pred_xl\", \"pred_yt\", \"pred_xr\", \"pred_yb\"]].values\n",
    "# target = df[[\"target_xl\", \"target_yt\", \"target_xr\", \"target_yb\"]].values\n",
    "# iou(pred, target).mean()\n",
    "accuracy_list = np.array(accuracy_list)\n",
    "iou_scores = np.array(iou_scores)\n",
    "dct[tracker_name][\"mIoU\"] = round(iou_scores.mean(), 2)\n",
    "for i, thresh in enumerate(thresholds):\n",
    "    dct[tracker_name][f\"accuracy-{thresh}\"] = round(accuracy_list[:, i].mean(), 2)\n",
    "dct[tracker_name][\"accuracy\"] = round(accuracy_list.mean(), 2)"
   ]
  },
  {
   "cell_type": "code",
   "execution_count": 40,
   "id": "6f1af27a-a907-4195-9113-dbb6c962dd3f",
   "metadata": {
    "tags": []
   },
   "outputs": [
    {
     "data": {
      "text/plain": [
       "{'trained-atom': {'mIoU': 0.72,\n",
       "  'accuracy-0.5': 0.87,\n",
       "  'accuracy-0.75': 0.58,\n",
       "  'accuracy-0.9': 0.06,\n",
       "  'accuracy': 0.5}}"
      ]
     },
     "execution_count": 40,
     "metadata": {},
     "output_type": "execute_result"
    }
   ],
   "source": [
    "dct"
   ]
  },
  {
   "cell_type": "code",
   "execution_count": 4,
   "id": "17150a59-ab59-40f2-9f06-9af4761aa3b9",
   "metadata": {
    "tags": []
   },
   "outputs": [],
   "source": []
  },
  {
   "cell_type": "code",
   "execution_count": 11,
   "id": "508909c0-eb85-4475-8da3-db675bcf4029",
   "metadata": {
    "tags": []
   },
   "outputs": [],
   "source": [
    "from argparse import Namespace\n",
    "from collections import OrderedDict\n",
    "\n",
    "from pytracking.evaluation import Tracker\n",
    "# from pytracking.tracker.tomp import ToMP\n",
    "# from pytracking.parameter.tomp import tomp50_parameters\n",
    "from pytracking.evaluation.multi_object_wrapper import MultiObjectWrapper\n",
    "import cv2\n",
    "\n",
    "\n",
    "class TrackerUI:\n",
    "    def __init__(self):\n",
    "        self.init_tracker = Tracker('atom', 'default')\n",
    "        self.tracker = self._init_tracker()\n",
    "        \n",
    "        # parameters = tomp50_parameters()\n",
    "        # self.tracker = ToMP(parameters)\n",
    "\n",
    "        self.main_params, self.info = self._init_params()\n",
    "        self._tracker_disp_colors = {1: (0, 255, 0), 2: (0, 0, 255), 3: (255, 0, 0),\n",
    "                                4: (255, 255, 255), 5: (0, 0, 0), 6: (0, 255, 128),\n",
    "                                7: (123, 123, 123), 8: (255, 128, 0), 9: (128, 0, 255)}\n",
    "\n",
    "    def _init_tracker(self):\n",
    "        params = self.init_tracker.get_parameters()\n",
    "\n",
    "        debug_ = getattr(params, 'debug', 0)\n",
    "        params.debug = debug_\n",
    "\n",
    "        params.tracker_name = self.init_tracker.name\n",
    "        params.param_name = self.init_tracker.parameter_name\n",
    "        self.init_tracker._init_visdom(None, debug_)\n",
    "        return MultiObjectWrapper(self.init_tracker.tracker_class, params,\n",
    "                                  self.init_tracker.visdom, fast_load=True)\n",
    "\n",
    "    def _init_params(self):\n",
    "        class MainParams:\n",
    "            def __init__(self):\n",
    "                self.next_object_id = 1\n",
    "                self.sequence_object_ids = []\n",
    "                self.prev_output = OrderedDict()\n",
    "                self.output_boxes = OrderedDict()\n",
    "                self.frame_number = 0\n",
    "\n",
    "        info = {'object_ids': [], 'init_object_ids': [], 'init_bbox': OrderedDict()}\n",
    "        return MainParams(), info\n",
    "\n",
    "    def track(self, frame, init_position=None):\n",
    "\n",
    "        self.main_params.frame_number += 1\n",
    "        frame_disp = frame.copy()\n",
    "\n",
    "        info = OrderedDict()\n",
    "        info['previous_output'] = self.main_params.prev_output\n",
    "\n",
    "        if init_position:\n",
    "            # r = cv2.selectROI(display_name, frame)\n",
    "#             r = init_position\n",
    "#             init_state = [r[0], r[1], r[2], r[3]]\n",
    "\n",
    "#             print(init_state)\n",
    "            info['init_object_ids'] = [self.main_params.next_object_id, ]\n",
    "            info['init_bbox'] = OrderedDict({self.main_params.next_object_id: init_state})\n",
    "        \n",
    "        # tracker.initialize(image0, info)\n",
    "            self.main_params.sequence_object_ids.append(self.main_params.next_object_id)\n",
    "            self.main_params.output_boxes[self.main_params.next_object_id] = [init_state, ]\n",
    "            self.main_params.next_object_id += 1\n",
    "            # p_frame = frame\n",
    "            # continue\n",
    "\n",
    "        if len(self.main_params.sequence_object_ids) > 0:\n",
    "            info['sequence_object_ids'] = self.main_params.sequence_object_ids\n",
    "            out = self.tracker.track(frame, info)\n",
    "            self.main_params.prev_output = OrderedDict(out)\n",
    "\n",
    "            if 'target_bbox' in out:\n",
    "                for obj_id, state in out['target_bbox'].items():\n",
    "                    state = [int(s) for s in state]\n",
    "                    cv2.rectangle(frame_disp, (state[0], state[1]), (state[2] + state[0], state[3] + state[1]),\n",
    "                                  self._tracker_disp_colors[obj_id], 5)\n",
    "                    # if save_results:\n",
    "                    self.main_params.output_boxes[obj_id].append(state)\n",
    "        # state, frame, template = get_box_frame(frame, output_boxes[1][-1])\n",
    "        # p_state, p_frame, p_template = get_box_frame(p_frame, output_boxes[1][-2])\n",
    "        # new_box = smooth_bbox(p_template, template, state)\n",
    "        # cv2.rectangle(frame_disp, (new_box[0], new_box[1]), (new_box[0] + new_box[2], new_box[1] + new_box[3]),\n",
    "        #               (0, 0, 255), 2)\n",
    "\n",
    "            p_frame = frame\n",
    "            # Put text\n",
    "            font_color = (255, 255, 255)\n",
    "            msg = \"Select target(s). Press 'r' to reset or 'q' to quit.\"\n",
    "            cv2.rectangle(frame_disp, (5, 5), (630, 40), (50, 50, 50), -1)\n",
    "            cv2.putText(frame_disp, msg, (10, 30), cv2.FONT_HERSHEY_COMPLEX_SMALL, 1, font_color, 2)\n",
    "        return frame_disp"
   ]
  },
  {
   "cell_type": "code",
   "execution_count": 7,
   "id": "83c648b6-6f5f-4007-a07f-d1a4633266fe",
   "metadata": {
    "tags": []
   },
   "outputs": [],
   "source": [
    "from ltr.dataset.my_dataset import MyDataset\n",
    "dataset = MyDataset()"
   ]
  },
  {
   "cell_type": "code",
   "execution_count": 8,
   "id": "b329ca03-c031-4cb2-a10b-edd3fa489bae",
   "metadata": {
    "tags": []
   },
   "outputs": [
    {
     "ename": "NameError",
     "evalue": "name 'pred_boxes' is not defined",
     "output_type": "error",
     "traceback": [
      "\u001b[0;31m---------------------------------------------------------------------------\u001b[0m",
      "\u001b[0;31mNameError\u001b[0m                                 Traceback (most recent call last)",
      "\u001b[0;32m/tmp/ipykernel_13698/2808528358.py\u001b[0m in \u001b[0;36m<module>\u001b[0;34m\u001b[0m\n\u001b[0;32m----> 1\u001b[0;31m \u001b[0miou\u001b[0m\u001b[0;34m(\u001b[0m\u001b[0mpred_boxes\u001b[0m\u001b[0;34m,\u001b[0m \u001b[0mbboxes\u001b[0m\u001b[0;34m)\u001b[0m\u001b[0;34m.\u001b[0m\u001b[0mmean\u001b[0m\u001b[0;34m(\u001b[0m\u001b[0;34m)\u001b[0m\u001b[0;34m\u001b[0m\u001b[0;34m\u001b[0m\u001b[0m\n\u001b[0m",
      "\u001b[0;31mNameError\u001b[0m: name 'pred_boxes' is not defined"
     ]
    }
   ],
   "source": [
    "iou(pred_boxes, bboxes).mean()"
   ]
  },
  {
   "cell_type": "code",
   "execution_count": 9,
   "id": "7bc6360e-3071-45ec-ac96-ec5d0995ffc1",
   "metadata": {
    "tags": []
   },
   "outputs": [
    {
     "ename": "NameError",
     "evalue": "name 'tracker' is not defined",
     "output_type": "error",
     "traceback": [
      "\u001b[0;31m---------------------------------------------------------------------------\u001b[0m",
      "\u001b[0;31mNameError\u001b[0m                                 Traceback (most recent call last)",
      "\u001b[0;32m/tmp/ipykernel_13698/3038196484.py\u001b[0m in \u001b[0;36m<module>\u001b[0;34m\u001b[0m\n\u001b[1;32m      1\u001b[0m \u001b[0;32mimport\u001b[0m \u001b[0mnumpy\u001b[0m \u001b[0;32mas\u001b[0m \u001b[0mnp\u001b[0m\u001b[0;34m\u001b[0m\u001b[0;34m\u001b[0m\u001b[0m\n\u001b[0;32m----> 2\u001b[0;31m \u001b[0mpred_boxes\u001b[0m \u001b[0;34m=\u001b[0m \u001b[0mnp\u001b[0m\u001b[0;34m.\u001b[0m\u001b[0marray\u001b[0m\u001b[0;34m(\u001b[0m\u001b[0mtracker\u001b[0m\u001b[0;34m.\u001b[0m\u001b[0mmain_params\u001b[0m\u001b[0;34m.\u001b[0m\u001b[0moutput_boxes\u001b[0m\u001b[0;34m[\u001b[0m\u001b[0;36m1\u001b[0m\u001b[0;34m]\u001b[0m\u001b[0;34m,\u001b[0m \u001b[0mdtype\u001b[0m\u001b[0;34m=\u001b[0m\u001b[0mnp\u001b[0m\u001b[0;34m.\u001b[0m\u001b[0mfloat32\u001b[0m\u001b[0;34m)\u001b[0m\u001b[0;34m\u001b[0m\u001b[0;34m\u001b[0m\u001b[0m\n\u001b[0m\u001b[1;32m      3\u001b[0m \u001b[0mpred_boxes\u001b[0m\u001b[0;34m[\u001b[0m\u001b[0;34m:\u001b[0m\u001b[0;34m,\u001b[0m\u001b[0;36m2\u001b[0m\u001b[0;34m]\u001b[0m \u001b[0;34m+=\u001b[0m \u001b[0mpred_boxes\u001b[0m\u001b[0;34m[\u001b[0m\u001b[0;34m:\u001b[0m\u001b[0;34m,\u001b[0m\u001b[0;36m0\u001b[0m\u001b[0;34m]\u001b[0m\u001b[0;34m\u001b[0m\u001b[0;34m\u001b[0m\u001b[0m\n\u001b[1;32m      4\u001b[0m \u001b[0mpred_boxes\u001b[0m\u001b[0;34m[\u001b[0m\u001b[0;34m:\u001b[0m\u001b[0;34m,\u001b[0m\u001b[0;36m3\u001b[0m\u001b[0;34m]\u001b[0m \u001b[0;34m+=\u001b[0m \u001b[0mpred_boxes\u001b[0m\u001b[0;34m[\u001b[0m\u001b[0;34m:\u001b[0m\u001b[0;34m,\u001b[0m\u001b[0;36m1\u001b[0m\u001b[0;34m]\u001b[0m\u001b[0;34m\u001b[0m\u001b[0;34m\u001b[0m\u001b[0m\n",
      "\u001b[0;31mNameError\u001b[0m: name 'tracker' is not defined"
     ]
    }
   ],
   "source": [
    "import numpy as np\n",
    "pred_boxes = np.array(tracker.main_params.output_boxes[1], dtype=np.float32)\n",
    "pred_boxes[:,2] += pred_boxes[:,0]\n",
    "pred_boxes[:,3] += pred_boxes[:,1]"
   ]
  },
  {
   "cell_type": "code",
   "execution_count": 93,
   "id": "a58f3bf6-57b4-4203-9ee4-7ca4ff1a6dfa",
   "metadata": {
    "tags": []
   },
   "outputs": [],
   "source": [
    "info = dataset.get_sequence_info(dataset.sequence_list.index('008'))\n",
    "bboxes = info['bbox'].numpy()\n",
    "bboxes[:,2] += bboxes[:,0]\n",
    "bboxes[:,3] += bboxes[:,1]"
   ]
  },
  {
   "cell_type": "code",
   "execution_count": 12,
   "id": "937cf5b9-cb61-4768-862b-346c088551fc",
   "metadata": {
    "tags": []
   },
   "outputs": [
    {
     "name": "stderr",
     "output_type": "stream",
     "text": [
      "/home/mykhailo.shakhov/anaconda3/envs/pytracking/lib/python3.7/site-packages/torch/nn/functional.py:3063: UserWarning: Default upsampling behavior when mode=bilinear is changed to align_corners=False since 0.4.0. Please specify align_corners=True if the old behavior is desired. See the documentation of nn.Upsample for details.\n",
      "  \"See the documentation of nn.Upsample for details.\".format(mode))\n"
     ]
    },
    {
     "name": "stdout",
     "output_type": "stream",
     "text": [
      "Using /home/mykhailo.shakhov/.cache/torch_extensions as PyTorch extensions root...\n",
      "Detected CUDA files, patching ldflags\n",
      "Emitting ninja build file /home/mykhailo.shakhov/.cache/torch_extensions/_prroi_pooling/build.ninja...\n",
      "Building extension module _prroi_pooling...\n",
      "Allowing ninja to set a default number of workers... (overridable by setting the environment variable MAX_JOBS=N)\n",
      "ninja: no work to do.\n",
      "Loading extension module _prroi_pooling...\n",
      "Select a ROI and then press SPACE or ENTER button!\n",
      "Cancel the selection process by pressing c button!\n"
     ]
    },
    {
     "name": "stderr",
     "output_type": "stream",
     "text": [
      "/home/mykhailo.shakhov/anaconda3/envs/pytracking/lib/python3.7/site-packages/torch/nn/functional.py:3063: UserWarning: Default upsampling behavior when mode=bilinear is changed to align_corners=False since 0.4.0. Please specify align_corners=True if the old behavior is desired. See the documentation of nn.Upsample for details.\n",
      "  \"See the documentation of nn.Upsample for details.\".format(mode))\n",
      "/home/mykhailo.shakhov/Coursework2/pytracking/libs/fourier.py:24: UserWarning: The function torch.rfft is deprecated and will be removed in a future PyTorch release. Use the new torch.fft module functions, instead, by importing torch.fft and calling torch.fft.fft or torch.fft.rfft. (Triggered internally at  /pytorch/aten/src/ATen/native/SpectralOps.cpp:590.)\n",
      "  return rfftshift2(torch.rfft(a, 2))\n",
      "/home/mykhailo.shakhov/Coursework2/pytracking/libs/fourier.py:31: UserWarning: The function torch.irfft is deprecated and will be removed in a future PyTorch release. Use the new torch.fft module functions, instead, by importing torch.fft and calling torch.fft.ifft or torch.fft.irfft. (Triggered internally at  /pytorch/aten/src/ATen/native/SpectralOps.cpp:602.)\n",
      "  return torch.irfft(irfftshift2(a), 2, signal_sizes=signal_sizes)\n"
     ]
    }
   ],
   "source": [
    "import cv2\n",
    "  \n",
    "tracker = TrackerUI()\n",
    "# vid = cv2.VideoCapture(0)\n",
    "vid = cv2.VideoCapture(\"/home/mykhailo.shakhov/Coursework2/data/008.mp4\")\n",
    "init = True\n",
    "while(True):\n",
    "    ret, frame = vid.read()\n",
    "    if init:\n",
    "        r = cv2.selectROI('frame', frame)\n",
    "        init =False\n",
    "        init_state = [r[0], r[1],r[2], r[3]]\n",
    "    else:\n",
    "        init_state = None\n",
    "    # Capture the video frame\n",
    "    # by frame\n",
    "    \n",
    "    if not ret:\n",
    "        break\n",
    "    frame_disp = tracker.track(frame, init_state)\n",
    "    # Display the resulting frame\n",
    "    cv2.imshow('frame', frame_disp)\n",
    "      \n",
    "    # the 'q' button is set as the\n",
    "    # quitting button you may use any\n",
    "    # desired button of your choice\n",
    "    if cv2.waitKey(1) & 0xFF == ord('q'):\n",
    "        break\n",
    "  \n",
    "# After the loop release the cap object\n",
    "vid.release()\n",
    "# Destroy all the windows\n",
    "cv2.destroyAllWindows()"
   ]
  }
 ],
 "metadata": {
  "kernelspec": {
   "display_name": "Python 3 (ipykernel)",
   "language": "python",
   "name": "python3"
  },
  "language_info": {
   "codemirror_mode": {
    "name": "ipython",
    "version": 3
   },
   "file_extension": ".py",
   "mimetype": "text/x-python",
   "name": "python",
   "nbconvert_exporter": "python",
   "pygments_lexer": "ipython3",
   "version": "3.7.16"
  }
 },
 "nbformat": 4,
 "nbformat_minor": 5
}
